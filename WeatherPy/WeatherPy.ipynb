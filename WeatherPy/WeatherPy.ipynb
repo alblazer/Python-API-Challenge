{
 "cells": [
  {
   "cell_type": "markdown",
   "metadata": {},
   "source": [
    "# WeatherPy\n",
    "----\n",
    "\n",
    "#### Note\n",
    "* Instructions have been included for each segment. You do not have to follow them exactly, but they are included to help you think through the steps."
   ]
  },
  {
   "cell_type": "code",
   "execution_count": 8,
   "metadata": {
    "scrolled": true
   },
   "outputs": [],
   "source": [
    "# Dependencies and Setup\n",
    "import matplotlib.pyplot as plt\n",
    "import pandas as pd\n",
    "import numpy as np\n",
    "import requests\n",
    "import time\n",
    "from scipy.stats import linregress\n",
    "\n",
    "# Import API key\n",
    "from api_keys import weather_api_key\n",
    "\n",
    "# Incorporated citipy to determine city based on latitude and longitude\n",
    "from citipy import citipy\n",
    "\n",
    "# Output File (CSV)\n",
    "output_data_file = \"output_data/cities.csv\"\n",
    "\n",
    "# Gonna need the URL\n",
    "query_url = f\"http://api.openweathermap.org/data/2.5/weather?appid={weather_api_key}&units=imperial&q=\"\n",
    "\n",
    "# Range of latitudes and longitudes\n",
    "lat_range = (-90, 90)\n",
    "lng_range = (-180, 180)"
   ]
  },
  {
   "cell_type": "markdown",
   "metadata": {},
   "source": [
    "## Generate Cities List"
   ]
  },
  {
   "cell_type": "code",
   "execution_count": 9,
   "metadata": {},
   "outputs": [
    {
     "data": {
      "text/plain": [
       "596"
      ]
     },
     "execution_count": 9,
     "metadata": {},
     "output_type": "execute_result"
    }
   ],
   "source": [
    "# List for holding lat_lngs and cities\n",
    "lat_lngs = []\n",
    "cities = []\n",
    "\n",
    "# Create a set of random lat and lng combinations\n",
    "lats = np.random.uniform(lat_range[0], lat_range[1], size=1500)\n",
    "lngs = np.random.uniform(lng_range[0], lng_range[1], size=1500)\n",
    "lat_lngs = zip(lats, lngs)\n",
    "\n",
    "# Identify nearest city for each lat, lng combination\n",
    "for lat_lng in lat_lngs:\n",
    "    city = citipy.nearest_city(lat_lng[0], lat_lng[1]).city_name\n",
    "    \n",
    "    # If the city is unique, then add it to a our cities list\n",
    "    if city not in cities:\n",
    "        cities.append(city)\n",
    "\n",
    "# Print the city count to confirm sufficient count\n",
    "len(cities)"
   ]
  },
  {
   "cell_type": "markdown",
   "metadata": {},
   "source": [
    "### Perform API Calls\n",
    "* Perform a weather check on each city using a series of successive API calls.\n",
    "* Include a print log of each city as it'sbeing processed (with the city number and city name).\n"
   ]
  },
  {
   "cell_type": "code",
   "execution_count": 10,
   "metadata": {
    "scrolled": true
   },
   "outputs": [
    {
     "name": "stdout",
     "output_type": "stream",
     "text": [
      "Processing Record 1 of Set 1 | tuatapere\n",
      "Processing Record 2 of Set 1 | chokurdakh\n",
      "Processing Record 3 of Set 1 | zhezkazgan\n",
      "Processing Record 4 of Set 1 | kapaa\n",
      "Processing Record 5 of Set 1 | lebu\n",
      "Processing Record 6 of Set 1 | lorengau\n",
      "Processing Record 7 of Set 1 | rikitea\n",
      "Processing Record 8 of Set 1 | ushuaia\n",
      "Processing Record 9 of Set 1 | hobyo\n",
      "Processing Record 10 of Set 1 | castro\n",
      "Processing Record 11 of Set 1 | along\n",
      "Processing Record 12 of Set 1 | hasaki\n",
      "Processing Record 13 of Set 1 | carnarvon\n",
      "Processing Record 14 of Set 1 | cape town\n",
      "Processing Record 15 of Set 1 | lewiston\n",
      "Processing Record 16 of Set 1 | blackwater\n",
      "Processing Record 17 of Set 1 | koumac\n",
      "Processing Record 18 of Set 1 | ormond beach\n",
      "Processing Record 19 of Set 1 | sao joao da barra\n",
      "Processing Record 20 of Set 1 | nemuro\n",
      "Processing Record 21 of Set 1 | albany\n",
      "Processing Record 22 of Set 1 | srednekolymsk\n",
      "Processing Record 23 of Set 1 | beringovskiy\n",
      "Processing Record 24 of Set 1 | kahului\n",
      "Processing Record 25 of Set 1 | arraial do cabo\n",
      "Processing Record 26 of Set 1 | kiomboi\n",
      "Processing Record 27 of Set 1 | barrow\n",
      "Processing Record 28 of Set 1 | hami\n",
      "Processing Record 29 of Set 1 | hermanus\n",
      "City not found. Skipping...\n",
      "Processing Record 30 of Set 1 | floro\n",
      "Processing Record 31 of Set 1 | busselton\n",
      "Processing Record 32 of Set 1 | bredasdorp\n",
      "Processing Record 33 of Set 1 | saravan\n",
      "Processing Record 34 of Set 1 | lagoa\n",
      "Processing Record 35 of Set 1 | puerto ayora\n",
      "Processing Record 36 of Set 1 | iqaluit\n",
      "Processing Record 37 of Set 1 | tiznit\n",
      "Processing Record 38 of Set 1 | thompson\n",
      "Processing Record 39 of Set 1 | hovd\n",
      "Processing Record 40 of Set 1 | atuona\n",
      "Processing Record 41 of Set 1 | bengkulu\n",
      "Processing Record 42 of Set 1 | snasa\n",
      "Processing Record 43 of Set 1 | baie-comeau\n",
      "Processing Record 44 of Set 1 | vaini\n",
      "Processing Record 45 of Set 1 | severo-kurilsk\n",
      "Processing Record 46 of Set 1 | jamestown\n",
      "City not found. Skipping...\n",
      "Processing Record 47 of Set 1 | dikson\n",
      "Processing Record 48 of Set 1 | grand river south east\n",
      "Processing Record 49 of Set 1 | vidim\n",
      "Processing Record 1 of Set 2 | yellowknife\n",
      "Processing Record 2 of Set 2 | airai\n",
      "Processing Record 3 of Set 2 | acarau\n",
      "Processing Record 4 of Set 2 | tuktoyaktuk\n",
      "Processing Record 5 of Set 2 | eureka\n",
      "Processing Record 6 of Set 2 | puerto ayacucho\n",
      "Processing Record 7 of Set 2 | khatanga\n",
      "City not found. Skipping...\n",
      "Processing Record 8 of Set 2 | koungheul\n",
      "Processing Record 9 of Set 2 | monroe\n",
      "Processing Record 10 of Set 2 | namtsy\n",
      "Processing Record 11 of Set 2 | kaitangata\n",
      "Processing Record 12 of Set 2 | kondinskoye\n",
      "Processing Record 13 of Set 2 | qaanaaq\n",
      "Processing Record 14 of Set 2 | berbera\n",
      "City not found. Skipping...\n",
      "Processing Record 15 of Set 2 | ulladulla\n",
      "Processing Record 16 of Set 2 | punta arenas\n",
      "Processing Record 17 of Set 2 | shenjiamen\n",
      "Processing Record 18 of Set 2 | rudnichnyy\n",
      "Processing Record 19 of Set 2 | masterton\n",
      "City not found. Skipping...\n",
      "Processing Record 20 of Set 2 | kavaratti\n",
      "City not found. Skipping...\n",
      "Processing Record 21 of Set 2 | skjervoy\n",
      "Processing Record 22 of Set 2 | bathsheba\n",
      "Processing Record 23 of Set 2 | butaritari\n",
      "City not found. Skipping...\n",
      "Processing Record 24 of Set 2 | ancud\n",
      "Processing Record 25 of Set 2 | west memphis\n",
      "Processing Record 26 of Set 2 | sokolo\n",
      "Processing Record 27 of Set 2 | noumea\n",
      "Processing Record 28 of Set 2 | klaksvik\n",
      "Processing Record 29 of Set 2 | kharan\n",
      "City not found. Skipping...\n",
      "Processing Record 30 of Set 2 | rrogozhine\n",
      "Processing Record 31 of Set 2 | mataura\n",
      "Processing Record 32 of Set 2 | ilulissat\n",
      "Processing Record 33 of Set 2 | fairbanks\n",
      "Processing Record 34 of Set 2 | axim\n",
      "Processing Record 35 of Set 2 | kemijarvi\n",
      "Processing Record 36 of Set 2 | college\n",
      "Processing Record 37 of Set 2 | port alfred\n",
      "Processing Record 38 of Set 2 | fez\n",
      "Processing Record 39 of Set 2 | hilo\n",
      "Processing Record 40 of Set 2 | san patricio\n",
      "Processing Record 41 of Set 2 | ust-kulom\n",
      "Processing Record 42 of Set 2 | sitka\n",
      "Processing Record 43 of Set 2 | vage\n",
      "Processing Record 44 of Set 2 | ashland\n",
      "Processing Record 45 of Set 2 | port elizabeth\n",
      "Processing Record 46 of Set 2 | wageningen\n",
      "Processing Record 47 of Set 2 | avarua\n",
      "Processing Record 48 of Set 2 | san quintin\n",
      "Processing Record 49 of Set 2 | cabo san lucas\n",
      "Processing Record 1 of Set 3 | tasiilaq\n",
      "Processing Record 2 of Set 3 | tiksi\n",
      "City not found. Skipping...\n",
      "Processing Record 3 of Set 3 | georgetown\n",
      "Processing Record 4 of Set 3 | fortuna\n",
      "Processing Record 5 of Set 3 | bubaque\n",
      "Processing Record 6 of Set 3 | bogovarovo\n",
      "Processing Record 7 of Set 3 | luderitz\n",
      "Processing Record 8 of Set 3 | mount gambier\n",
      "Processing Record 9 of Set 3 | nanortalik\n",
      "City not found. Skipping...\n",
      "Processing Record 10 of Set 3 | pacific grove\n",
      "Processing Record 11 of Set 3 | tagusao\n",
      "Processing Record 12 of Set 3 | ponta do sol\n",
      "City not found. Skipping...\n",
      "Processing Record 13 of Set 3 | asau\n",
      "Processing Record 14 of Set 3 | leningradskiy\n",
      "Processing Record 15 of Set 3 | poronaysk\n",
      "Processing Record 16 of Set 3 | qesarya\n",
      "Processing Record 17 of Set 3 | zaoyang\n",
      "Processing Record 18 of Set 3 | kieta\n",
      "Processing Record 19 of Set 3 | akureyri\n",
      "Processing Record 20 of Set 3 | okhotsk\n",
      "City not found. Skipping...\n",
      "City not found. Skipping...\n",
      "Processing Record 21 of Set 3 | miri\n",
      "Processing Record 22 of Set 3 | barberton\n",
      "City not found. Skipping...\n",
      "Processing Record 23 of Set 3 | mecca\n",
      "City not found. Skipping...\n",
      "Processing Record 24 of Set 3 | atar\n",
      "Processing Record 25 of Set 3 | meulaboh\n",
      "Processing Record 26 of Set 3 | valdivia\n",
      "Processing Record 27 of Set 3 | ahipara\n",
      "Processing Record 28 of Set 3 | iralaya\n",
      "Processing Record 29 of Set 3 | hobart\n",
      "Processing Record 30 of Set 3 | bisho\n",
      "Processing Record 31 of Set 3 | magadan\n",
      "Processing Record 32 of Set 3 | antofagasta\n",
      "Processing Record 33 of Set 3 | mar del plata\n",
      "Processing Record 34 of Set 3 | pingliang\n",
      "Processing Record 35 of Set 3 | lukovetskiy\n",
      "Processing Record 36 of Set 3 | andenes\n",
      "Processing Record 37 of Set 3 | upernavik\n",
      "Processing Record 38 of Set 3 | yaransk\n",
      "Processing Record 39 of Set 3 | komsomolskiy\n",
      "Processing Record 40 of Set 3 | bongandanga\n",
      "City not found. Skipping...\n",
      "City not found. Skipping...\n",
      "Processing Record 41 of Set 3 | vila franca do campo\n",
      "Processing Record 42 of Set 3 | tautira\n",
      "Processing Record 43 of Set 3 | grand-santi\n",
      "Processing Record 44 of Set 3 | hambantota\n",
      "Processing Record 45 of Set 3 | bluff\n",
      "Processing Record 46 of Set 3 | kismayo\n",
      "City not found. Skipping...\n",
      "Processing Record 47 of Set 3 | salalah\n",
      "Processing Record 48 of Set 3 | iquique\n",
      "Processing Record 49 of Set 3 | martaban\n",
      "Processing Record 1 of Set 4 | ribeira grande\n",
      "Processing Record 2 of Set 4 | ville-marie\n",
      "Processing Record 3 of Set 4 | bone\n",
      "Processing Record 4 of Set 4 | nizwa\n",
      "Processing Record 5 of Set 4 | dibombari\n",
      "Processing Record 6 of Set 4 | pyaozerskiy\n",
      "Processing Record 7 of Set 4 | springbok\n",
      "Processing Record 8 of Set 4 | pangnirtung\n",
      "Processing Record 9 of Set 4 | provideniya\n",
      "Processing Record 10 of Set 4 | north bend\n",
      "Processing Record 11 of Set 4 | seabra\n",
      "City not found. Skipping...\n",
      "City not found. Skipping...\n",
      "City not found. Skipping...\n",
      "Processing Record 12 of Set 4 | podgornoye\n",
      "Processing Record 13 of Set 4 | kloulklubed\n",
      "Processing Record 14 of Set 4 | vestmanna\n",
      "City not found. Skipping...\n",
      "Processing Record 15 of Set 4 | bethel\n",
      "Processing Record 16 of Set 4 | qaqortoq\n",
      "Processing Record 17 of Set 4 | dimbokro\n",
      "City not found. Skipping...\n",
      "Processing Record 18 of Set 4 | mahebourg\n",
      "Processing Record 19 of Set 4 | brae\n",
      "Processing Record 20 of Set 4 | clyde river\n",
      "Processing Record 21 of Set 4 | nikolskoye\n",
      "Processing Record 22 of Set 4 | port macquarie\n",
      "Processing Record 23 of Set 4 | aklavik\n",
      "Processing Record 24 of Set 4 | nome\n",
      "Processing Record 25 of Set 4 | deloraine\n",
      "Processing Record 26 of Set 4 | ostrovnoy\n",
      "Processing Record 27 of Set 4 | saldanha\n",
      "Processing Record 28 of Set 4 | kaduy\n",
      "Processing Record 29 of Set 4 | norman wells\n",
      "Processing Record 30 of Set 4 | huarmey\n",
      "Processing Record 31 of Set 4 | yeppoon\n",
      "Processing Record 32 of Set 4 | paamiut\n",
      "Processing Record 33 of Set 4 | petropavlovsk-kamchatskiy\n",
      "Processing Record 34 of Set 4 | hervey bay\n",
      "Processing Record 35 of Set 4 | aquiraz\n"
     ]
    },
    {
     "name": "stdout",
     "output_type": "stream",
     "text": [
      "Processing Record 36 of Set 4 | araouane\n",
      "Processing Record 37 of Set 4 | yulara\n",
      "Processing Record 38 of Set 4 | ballina\n",
      "Processing Record 39 of Set 4 | vestmannaeyjar\n",
      "City not found. Skipping...\n",
      "Processing Record 40 of Set 4 | bambous virieux\n",
      "Processing Record 41 of Set 4 | likasi\n",
      "Processing Record 42 of Set 4 | mamallapuram\n",
      "City not found. Skipping...\n",
      "Processing Record 43 of Set 4 | morehead\n",
      "Processing Record 44 of Set 4 | mys shmidta\n",
      "Processing Record 45 of Set 4 | isangel\n",
      "Processing Record 46 of Set 4 | konosha\n",
      "Processing Record 47 of Set 4 | leninsk\n",
      "Processing Record 48 of Set 4 | balakirevo\n",
      "Processing Record 49 of Set 4 | biri\n",
      "Processing Record 1 of Set 5 | lompoc\n",
      "City not found. Skipping...\n",
      "Processing Record 2 of Set 5 | new norfolk\n",
      "City not found. Skipping...\n",
      "Processing Record 3 of Set 5 | beloha\n",
      "Processing Record 4 of Set 5 | half moon bay\n",
      "Processing Record 5 of Set 5 | polunochnoye\n",
      "Processing Record 6 of Set 5 | kumano\n",
      "Processing Record 7 of Set 5 | lasa\n",
      "Processing Record 8 of Set 5 | san lorenzo\n",
      "Processing Record 9 of Set 5 | port-cartier\n",
      "Processing Record 10 of Set 5 | abrau-dyurso\n",
      "Processing Record 11 of Set 5 | taoudenni\n",
      "Processing Record 12 of Set 5 | cabra\n",
      "Processing Record 13 of Set 5 | chihuahua\n",
      "Processing Record 14 of Set 5 | batticaloa\n",
      "Processing Record 15 of Set 5 | aksarka\n",
      "Processing Record 16 of Set 5 | geraldton\n",
      "Processing Record 17 of Set 5 | getulio vargas\n",
      "City not found. Skipping...\n",
      "Processing Record 18 of Set 5 | flin flon\n",
      "Processing Record 19 of Set 5 | wanaka\n",
      "Processing Record 20 of Set 5 | grand centre\n",
      "Processing Record 21 of Set 5 | iracoubo\n",
      "Processing Record 22 of Set 5 | tarauaca\n",
      "Processing Record 23 of Set 5 | bardiyah\n",
      "Processing Record 24 of Set 5 | tazmalt\n",
      "Processing Record 25 of Set 5 | longyearbyen\n",
      "Processing Record 26 of Set 5 | kodiak\n",
      "Processing Record 27 of Set 5 | ambon\n",
      "Processing Record 28 of Set 5 | port-gentil\n",
      "Processing Record 29 of Set 5 | torbay\n",
      "Processing Record 30 of Set 5 | iwanai\n",
      "Processing Record 31 of Set 5 | xai-xai\n",
      "Processing Record 32 of Set 5 | funadhoo\n",
      "Processing Record 33 of Set 5 | sawtell\n",
      "Processing Record 34 of Set 5 | naze\n",
      "Processing Record 35 of Set 5 | saint-philippe\n",
      "Processing Record 36 of Set 5 | misratah\n",
      "Processing Record 37 of Set 5 | dunedin\n",
      "Processing Record 38 of Set 5 | baykit\n",
      "City not found. Skipping...\n",
      "Processing Record 39 of Set 5 | cabo rojo\n",
      "Processing Record 40 of Set 5 | lima\n",
      "Processing Record 41 of Set 5 | cairns\n",
      "Processing Record 42 of Set 5 | moranbah\n",
      "Processing Record 43 of Set 5 | san joaquin\n",
      "Processing Record 44 of Set 5 | abha\n",
      "City not found. Skipping...\n",
      "Processing Record 45 of Set 5 | vanavara\n",
      "Processing Record 46 of Set 5 | salinas\n",
      "Processing Record 47 of Set 5 | ahuimanu\n",
      "Processing Record 48 of Set 5 | roseau\n",
      "Processing Record 49 of Set 5 | yelizovo\n",
      "Processing Record 1 of Set 6 | nador\n",
      "Processing Record 2 of Set 6 | alta floresta\n",
      "Processing Record 3 of Set 6 | marystown\n",
      "Processing Record 4 of Set 6 | sicuani\n",
      "Processing Record 5 of Set 6 | santa vitoria do palmar\n",
      "Processing Record 6 of Set 6 | berlevag\n",
      "Processing Record 7 of Set 6 | taunggyi\n",
      "Processing Record 8 of Set 6 | catamarca\n",
      "Processing Record 9 of Set 6 | banda aceh\n",
      "Processing Record 10 of Set 6 | dingle\n",
      "City not found. Skipping...\n",
      "Processing Record 11 of Set 6 | koroni\n",
      "Processing Record 12 of Set 6 | serra branca\n",
      "Processing Record 13 of Set 6 | oussouye\n",
      "Processing Record 14 of Set 6 | port washington\n",
      "Processing Record 15 of Set 6 | tuy hoa\n",
      "City not found. Skipping...\n",
      "Processing Record 16 of Set 6 | poya\n",
      "Processing Record 17 of Set 6 | yarada\n",
      "Processing Record 18 of Set 6 | cherskiy\n",
      "Processing Record 19 of Set 6 | eydhafushi\n",
      "City not found. Skipping...\n",
      "Processing Record 20 of Set 6 | prainha\n",
      "Processing Record 21 of Set 6 | esperance\n",
      "Processing Record 22 of Set 6 | tshikapa\n",
      "Processing Record 23 of Set 6 | east london\n",
      "Processing Record 24 of Set 6 | milicz\n",
      "Processing Record 25 of Set 6 | aguadulce\n",
      "Processing Record 26 of Set 6 | ucluelet\n",
      "City not found. Skipping...\n",
      "Processing Record 27 of Set 6 | amahai\n",
      "Processing Record 28 of Set 6 | hamilton\n",
      "Processing Record 29 of Set 6 | maraba\n",
      "City not found. Skipping...\n",
      "Processing Record 30 of Set 6 | malindi\n",
      "Processing Record 31 of Set 6 | faanui\n",
      "Processing Record 32 of Set 6 | bure\n",
      "Processing Record 33 of Set 6 | ust-nera\n",
      "Processing Record 34 of Set 6 | berga\n",
      "Processing Record 35 of Set 6 | palmeiras de goias\n",
      "Processing Record 36 of Set 6 | mandera\n",
      "Processing Record 37 of Set 6 | japura\n",
      "City not found. Skipping...\n",
      "Processing Record 38 of Set 6 | namibe\n",
      "Processing Record 39 of Set 6 | mandurah\n",
      "Processing Record 40 of Set 6 | malakal\n",
      "Processing Record 41 of Set 6 | waipawa\n",
      "Processing Record 42 of Set 6 | portland\n",
      "Processing Record 43 of Set 6 | vao\n",
      "Processing Record 44 of Set 6 | coquimbo\n",
      "Processing Record 45 of Set 6 | jalu\n",
      "Processing Record 46 of Set 6 | puerto baquerizo moreno\n",
      "Processing Record 47 of Set 6 | puerto boyaca\n",
      "Processing Record 48 of Set 6 | powell river\n",
      "Processing Record 49 of Set 6 | tevaitoa\n",
      "Processing Record 1 of Set 7 | muroto\n",
      "Processing Record 2 of Set 7 | salisbury\n",
      "Processing Record 3 of Set 7 | progreso\n",
      "Processing Record 4 of Set 7 | karratha\n",
      "Processing Record 5 of Set 7 | beidao\n",
      "Processing Record 6 of Set 7 | rosa zarate\n",
      "Processing Record 7 of Set 7 | alofi\n",
      "Processing Record 8 of Set 7 | comendador\n",
      "Processing Record 9 of Set 7 | san andres\n",
      "Processing Record 10 of Set 7 | sai buri\n",
      "Processing Record 11 of Set 7 | bereda\n",
      "Processing Record 12 of Set 7 | aksu\n",
      "Processing Record 13 of Set 7 | puerto el triunfo\n",
      "Processing Record 14 of Set 7 | chuy\n",
      "Processing Record 15 of Set 7 | mehamn\n",
      "Processing Record 16 of Set 7 | chunskiy\n",
      "Processing Record 17 of Set 7 | dogondoutchi\n",
      "Processing Record 18 of Set 7 | amapa\n",
      "Processing Record 19 of Set 7 | zyryanka\n",
      "Processing Record 20 of Set 7 | deputatskiy\n",
      "Processing Record 21 of Set 7 | guerrero negro\n",
      "Processing Record 22 of Set 7 | cururupu\n",
      "Processing Record 23 of Set 7 | panama city\n",
      "City not found. Skipping...\n",
      "Processing Record 24 of Set 7 | severnoye\n",
      "Processing Record 25 of Set 7 | cortez\n",
      "Processing Record 26 of Set 7 | chilca\n",
      "Processing Record 27 of Set 7 | pevek\n",
      "Processing Record 28 of Set 7 | bruiu\n",
      "Processing Record 29 of Set 7 | marshall\n",
      "Processing Record 30 of Set 7 | bilma\n",
      "Processing Record 31 of Set 7 | kostroma\n",
      "Processing Record 32 of Set 7 | rocha\n",
      "Processing Record 33 of Set 7 | sao filipe\n",
      "Processing Record 34 of Set 7 | oga\n",
      "Processing Record 35 of Set 7 | pisco\n",
      "Processing Record 36 of Set 7 | neuquen\n",
      "Processing Record 37 of Set 7 | arvika\n",
      "Processing Record 38 of Set 7 | abu samrah\n",
      "Processing Record 39 of Set 7 | shiyan\n",
      "Processing Record 40 of Set 7 | padang\n",
      "Processing Record 41 of Set 7 | camiri\n",
      "Processing Record 42 of Set 7 | mogadishu\n",
      "Processing Record 43 of Set 7 | kavieng\n",
      "Processing Record 44 of Set 7 | poum\n",
      "Processing Record 45 of Set 7 | emirdag\n",
      "Processing Record 46 of Set 7 | vostok\n",
      "Processing Record 47 of Set 7 | ulaangom\n",
      "Processing Record 48 of Set 7 | garissa\n",
      "Processing Record 49 of Set 7 | saskylakh\n",
      "Processing Record 1 of Set 8 | port shepstone\n",
      "City not found. Skipping...\n",
      "Processing Record 2 of Set 8 | solnechnyy\n",
      "Processing Record 3 of Set 8 | razdolnaya\n",
      "Processing Record 4 of Set 8 | sydney\n",
      "Processing Record 5 of Set 8 | kalabo\n",
      "Processing Record 6 of Set 8 | sumbe\n",
      "Processing Record 7 of Set 8 | ferrandina\n",
      "Processing Record 8 of Set 8 | belaya gora\n",
      "Processing Record 9 of Set 8 | ixtapa\n",
      "Processing Record 10 of Set 8 | coihaique\n",
      "Processing Record 11 of Set 8 | balkanabat\n",
      "Processing Record 12 of Set 8 | kapoeta\n",
      "Processing Record 13 of Set 8 | vengerovo\n",
      "Processing Record 14 of Set 8 | boundiali\n",
      "Processing Record 15 of Set 8 | itarema\n",
      "Processing Record 16 of Set 8 | narsaq\n",
      "Processing Record 17 of Set 8 | cacapava do sul\n",
      "City not found. Skipping...\n",
      "Processing Record 18 of Set 8 | victoria\n",
      "Processing Record 19 of Set 8 | panzhihua\n",
      "Processing Record 20 of Set 8 | sorland\n",
      "Processing Record 21 of Set 8 | atambua\n",
      "City not found. Skipping...\n",
      "Processing Record 22 of Set 8 | grindavik\n",
      "Processing Record 23 of Set 8 | atasu\n",
      "Processing Record 24 of Set 8 | lalmohan\n",
      "Processing Record 25 of Set 8 | khandbari\n",
      "Processing Record 26 of Set 8 | perth\n",
      "Processing Record 27 of Set 8 | ossora\n",
      "Processing Record 28 of Set 8 | salinopolis\n",
      "Processing Record 29 of Set 8 | port lincoln\n"
     ]
    },
    {
     "name": "stdout",
     "output_type": "stream",
     "text": [
      "Processing Record 30 of Set 8 | salina cruz\n",
      "Processing Record 31 of Set 8 | san jeronimo\n",
      "Processing Record 32 of Set 8 | margate\n",
      "Processing Record 33 of Set 8 | bereslavka\n",
      "Processing Record 34 of Set 8 | hithadhoo\n",
      "City not found. Skipping...\n",
      "City not found. Skipping...\n",
      "City not found. Skipping...\n",
      "Processing Record 35 of Set 8 | kargil\n",
      "Processing Record 36 of Set 8 | havoysund\n",
      "Processing Record 37 of Set 8 | bonavista\n",
      "Processing Record 38 of Set 8 | nizhniy kuranakh\n",
      "Processing Record 39 of Set 8 | skibbereen\n",
      "Processing Record 40 of Set 8 | mackay\n",
      "Processing Record 41 of Set 8 | immokalee\n",
      "Processing Record 42 of Set 8 | blois\n",
      "Processing Record 43 of Set 8 | acapulco\n",
      "Processing Record 44 of Set 8 | nahrin\n",
      "Processing Record 45 of Set 8 | cayenne\n",
      "Processing Record 46 of Set 8 | cuamba\n",
      "Processing Record 47 of Set 8 | kruisfontein\n",
      "Processing Record 48 of Set 8 | beisfjord\n",
      "Processing Record 49 of Set 8 | nouadhibou\n",
      "City not found. Skipping...\n",
      "Processing Record 1 of Set 9 | katsuura\n",
      "Processing Record 2 of Set 9 | bojnurd\n",
      "Processing Record 3 of Set 9 | labytnangi\n",
      "Processing Record 4 of Set 9 | amberley\n",
      "Processing Record 5 of Set 9 | shakhunya\n",
      "Processing Record 6 of Set 9 | svetlyy\n",
      "Processing Record 7 of Set 9 | ifo\n",
      "Processing Record 8 of Set 9 | broome\n",
      "Processing Record 9 of Set 9 | bintulu\n",
      "Processing Record 10 of Set 9 | souillac\n",
      "City not found. Skipping...\n",
      "Processing Record 11 of Set 9 | micomeseng\n",
      "Processing Record 12 of Set 9 | mahibadhoo\n",
      "City not found. Skipping...\n",
      "Processing Record 13 of Set 9 | winslow\n",
      "Processing Record 14 of Set 9 | namatanai\n",
      "City not found. Skipping...\n",
      "Processing Record 15 of Set 9 | bandar\n",
      "Processing Record 16 of Set 9 | kuala pilah\n",
      "Processing Record 17 of Set 9 | aykhal\n",
      "Processing Record 18 of Set 9 | paka\n",
      "City not found. Skipping...\n",
      "Processing Record 19 of Set 9 | sonoita\n",
      "City not found. Skipping...\n",
      "Processing Record 20 of Set 9 | sao miguel do araguaia\n",
      "Processing Record 21 of Set 9 | wanning\n",
      "Processing Record 22 of Set 9 | kupang\n",
      "Processing Record 23 of Set 9 | staraya poltavka\n",
      "City not found. Skipping...\n",
      "Processing Record 24 of Set 9 | oistins\n",
      "Processing Record 25 of Set 9 | khandyga\n",
      "Processing Record 26 of Set 9 | pucara\n",
      "Processing Record 27 of Set 9 | prince rupert\n",
      "Processing Record 28 of Set 9 | constantine\n",
      "Processing Record 29 of Set 9 | faya\n",
      "Processing Record 30 of Set 9 | imeni poliny osipenko\n",
      "Processing Record 31 of Set 9 | garowe\n",
      "Processing Record 32 of Set 9 | vaitape\n",
      "Processing Record 33 of Set 9 | talnakh\n",
      "City not found. Skipping...\n",
      "Processing Record 34 of Set 9 | yuncheng\n",
      "Processing Record 35 of Set 9 | melfi\n",
      "Processing Record 36 of Set 9 | sibu\n",
      "Processing Record 37 of Set 9 | gravdal\n",
      "Processing Record 38 of Set 9 | cassia\n",
      "Processing Record 39 of Set 9 | uribia\n",
      "Processing Record 40 of Set 9 | saryagash\n",
      "Processing Record 41 of Set 9 | hostotipaquillo\n",
      "Processing Record 42 of Set 9 | foz\n",
      "Processing Record 43 of Set 9 | saraland\n",
      "City not found. Skipping...\n",
      "Processing Record 44 of Set 9 | port hardy\n",
      "Processing Record 45 of Set 9 | cidreira\n",
      "Processing Record 46 of Set 9 | daru\n",
      "Processing Record 47 of Set 9 | tual\n",
      "Processing Record 48 of Set 9 | shingu\n",
      "Processing Record 49 of Set 9 | salgado\n",
      "City not found. Skipping...\n",
      "Processing Record 1 of Set 10 | porto santo\n",
      "Processing Record 2 of Set 10 | evensk\n",
      "Processing Record 3 of Set 10 | tommot\n",
      "Processing Record 4 of Set 10 | sorong\n",
      "Processing Record 5 of Set 10 | tlalchapa\n",
      "Processing Record 6 of Set 10 | danville\n",
      "Processing Record 7 of Set 10 | shibetsu\n",
      "City not found. Skipping...\n",
      "Processing Record 8 of Set 10 | magole\n",
      "City not found. Skipping...\n",
      "Processing Record 9 of Set 10 | paragominas\n",
      "Processing Record 10 of Set 10 | marevo\n",
      "Processing Record 11 of Set 10 | san pedro de uraba\n",
      "Processing Record 12 of Set 10 | fort nelson\n",
      "Processing Record 13 of Set 10 | yerbogachen\n",
      "Processing Record 14 of Set 10 | waddan\n",
      "Processing Record 15 of Set 10 | donegal\n",
      "Processing Record 16 of Set 10 | port blair\n",
      "Processing Record 17 of Set 10 | jilib\n",
      "Processing Record 18 of Set 10 | yar-sale\n",
      "Processing Record 19 of Set 10 | tulun\n",
      "Processing Record 20 of Set 10 | port hawkesbury\n",
      "Processing Record 21 of Set 10 | guiratinga\n",
      "Processing Record 22 of Set 10 | manakara\n",
      "Processing Record 23 of Set 10 | temiscaming\n",
      "Processing Record 24 of Set 10 | san miguel\n",
      "Processing Record 25 of Set 10 | buala\n",
      "Processing Record 26 of Set 10 | kanashevo\n",
      "Processing Record 27 of Set 10 | ust-kan\n",
      "City not found. Skipping...\n",
      "Processing Record 28 of Set 10 | qandala\n",
      "Processing Record 29 of Set 10 | pontianak\n",
      "Processing Record 30 of Set 10 | hays\n",
      "Processing Record 31 of Set 10 | anadyr\n",
      "Processing Record 32 of Set 10 | roald\n",
      "Processing Record 33 of Set 10 | vila velha\n",
      "Processing Record 34 of Set 10 | codrington\n",
      "Processing Record 35 of Set 10 | ialibu\n",
      "Processing Record 36 of Set 10 | rio pomba\n",
      "Processing Record 37 of Set 10 | whitehorse\n",
      "Processing Record 38 of Set 10 | forrest city\n",
      "Processing Record 39 of Set 10 | mao\n",
      "Processing Record 40 of Set 10 | tubmanburg\n",
      "Processing Record 41 of Set 10 | fort morgan\n",
      "Processing Record 42 of Set 10 | mitsamiouli\n",
      "Processing Record 43 of Set 10 | spassk-dalniy\n",
      "Processing Record 44 of Set 10 | bayan\n",
      "Processing Record 45 of Set 10 | olafsvik\n",
      "City not found. Skipping...\n",
      "Processing Record 46 of Set 10 | partsa\n",
      "City not found. Skipping...\n",
      "Processing Record 47 of Set 10 | saint-augustin\n",
      "Processing Record 48 of Set 10 | sistranda\n",
      "Processing Record 49 of Set 10 | dargaville\n",
      "Processing Record 1 of Set 11 | francistown\n",
      "Processing Record 2 of Set 11 | gat\n",
      "Processing Record 3 of Set 11 | koslan\n",
      "Processing Record 4 of Set 11 | moyale\n",
      "Processing Record 5 of Set 11 | aasiaat\n",
      "Processing Record 6 of Set 11 | zharkent\n",
      "Processing Record 7 of Set 11 | gobabis\n",
      "City not found. Skipping...\n",
      "Processing Record 8 of Set 11 | mala vyska\n",
      "Processing Record 9 of Set 11 | tahe\n",
      "City not found. Skipping...\n",
      "Processing Record 10 of Set 11 | vezirkopru\n",
      "Processing Record 11 of Set 11 | mitha tiwana\n",
      "Processing Record 12 of Set 11 | sinnamary\n",
      "Processing Record 13 of Set 11 | paris\n",
      "Processing Record 14 of Set 11 | carballo\n",
      "Processing Record 15 of Set 11 | dakar\n",
      "City not found. Skipping...\n",
      "Processing Record 16 of Set 11 | tabuk\n",
      "Processing Record 17 of Set 11 | hoquiam\n",
      "Processing Record 18 of Set 11 | teahupoo\n",
      "Processing Record 19 of Set 11 | conde\n",
      "Processing Record 20 of Set 11 | teguldet\n",
      "Processing Record 21 of Set 11 | tabas\n",
      "City not found. Skipping...\n",
      "Processing Record 22 of Set 11 | queimados\n",
      "Processing Record 23 of Set 11 | asyut\n",
      "Processing Record 24 of Set 11 | jaru\n",
      "Processing Record 25 of Set 11 | hermosillo\n",
      "City not found. Skipping...\n",
      "Processing Record 26 of Set 11 | tanout\n",
      "Processing Record 27 of Set 11 | santa rosalia\n",
      "Processing Record 28 of Set 11 | aran\n",
      "Processing Record 29 of Set 11 | kalmunai\n",
      "City not found. Skipping...\n",
      "City not found. Skipping...\n",
      "Processing Record 30 of Set 11 | arusha\n",
      "Processing Record 31 of Set 11 | binga\n",
      "Processing Record 32 of Set 11 | sampit\n",
      "Processing Record 33 of Set 11 | fukue\n",
      "Processing Record 34 of Set 11 | obihiro\n",
      "Processing Record 35 of Set 11 | atyrau\n",
      "Processing Record 36 of Set 11 | melbourne\n",
      "Processing Record 37 of Set 11 | antalaha\n",
      "Processing Record 38 of Set 11 | shunyi\n",
      "Processing Record 39 of Set 11 | tigil\n",
      "Processing Record 40 of Set 11 | malanje\n",
      "Processing Record 41 of Set 11 | pimentel\n",
      "------------------------------\n",
      "Data Retrieval Complete\n",
      "------------------------------\n"
     ]
    }
   ],
   "source": [
    "# set lists for the dataframe\n",
    "city_two = []\n",
    "cloudinesses = []\n",
    "dates = []\n",
    "humidities = []\n",
    "lats = []\n",
    "lngs = []\n",
    "max_temps = []\n",
    "wind_speeds = []\n",
    "countries = []\n",
    "\n",
    "# set initial count quantities for organization\n",
    "count_one = 0\n",
    "set_one = 1\n",
    "\n",
    "# loop to create dataframe columns\n",
    "for city in cities:\n",
    "    try:\n",
    "        response = requests.get(query_url + city.replace(\" \",\"&\")).json()\n",
    "        cloudinesses.append(response['clouds']['all'])\n",
    "        countries.append(response['sys']['country'])\n",
    "        dates.append(response['dt'])\n",
    "        humidities.append(response['main']['humidity'])\n",
    "        lats.append(response['coord']['lat'])\n",
    "        lngs.append(response['coord']['lon'])\n",
    "        max_temps.append(response['main']['temp_max'])\n",
    "        wind_speeds.append(response['wind']['speed'])\n",
    "        if count_one > 48:\n",
    "            count_one = 1\n",
    "            set_one += 1\n",
    "            city_two.append(city)\n",
    "        else:\n",
    "            count_one += 1\n",
    "            city_two.append(city)\n",
    "        print(f\"Processing Record {count_one} of Set {set_one} | {city}\")\n",
    "    except Exception:\n",
    "        print(\"City not found. Skipping...\")\n",
    "print(\"------------------------------\\nData Retrieval Complete\\n------------------------------\")"
   ]
  },
  {
   "cell_type": "markdown",
   "metadata": {},
   "source": [
    "### Convert Raw Data to DataFrame\n",
    "* Export the city data into a .csv.\n",
    "* Display the DataFrame"
   ]
  },
  {
   "cell_type": "code",
   "execution_count": 12,
   "metadata": {},
   "outputs": [
    {
     "data": {
      "text/html": [
       "<div>\n",
       "<style scoped>\n",
       "    .dataframe tbody tr th:only-of-type {\n",
       "        vertical-align: middle;\n",
       "    }\n",
       "\n",
       "    .dataframe tbody tr th {\n",
       "        vertical-align: top;\n",
       "    }\n",
       "\n",
       "    .dataframe thead th {\n",
       "        text-align: right;\n",
       "    }\n",
       "</style>\n",
       "<table border=\"1\" class=\"dataframe\">\n",
       "  <thead>\n",
       "    <tr style=\"text-align: right;\">\n",
       "      <th></th>\n",
       "      <th>City</th>\n",
       "      <th>Cloudiness</th>\n",
       "      <th>Country</th>\n",
       "      <th>Date</th>\n",
       "      <th>Humidity</th>\n",
       "      <th>Lat</th>\n",
       "      <th>Lng</th>\n",
       "      <th>Max Temp</th>\n",
       "      <th>Wind Speed</th>\n",
       "    </tr>\n",
       "  </thead>\n",
       "  <tbody>\n",
       "    <tr>\n",
       "      <th>0</th>\n",
       "      <td>tuatapere</td>\n",
       "      <td>100</td>\n",
       "      <td>NZ</td>\n",
       "      <td>1609810053</td>\n",
       "      <td>92</td>\n",
       "      <td>-46.13</td>\n",
       "      <td>167.68</td>\n",
       "      <td>59.00</td>\n",
       "      <td>1.01</td>\n",
       "    </tr>\n",
       "    <tr>\n",
       "      <th>1</th>\n",
       "      <td>chokurdakh</td>\n",
       "      <td>14</td>\n",
       "      <td>RU</td>\n",
       "      <td>1609810053</td>\n",
       "      <td>85</td>\n",
       "      <td>70.63</td>\n",
       "      <td>147.92</td>\n",
       "      <td>-28.17</td>\n",
       "      <td>10.63</td>\n",
       "    </tr>\n",
       "    <tr>\n",
       "      <th>2</th>\n",
       "      <td>zhezkazgan</td>\n",
       "      <td>98</td>\n",
       "      <td>KZ</td>\n",
       "      <td>1609810053</td>\n",
       "      <td>87</td>\n",
       "      <td>47.80</td>\n",
       "      <td>67.71</td>\n",
       "      <td>-2.43</td>\n",
       "      <td>8.28</td>\n",
       "    </tr>\n",
       "    <tr>\n",
       "      <th>3</th>\n",
       "      <td>kapaa</td>\n",
       "      <td>1</td>\n",
       "      <td>US</td>\n",
       "      <td>1609810053</td>\n",
       "      <td>69</td>\n",
       "      <td>22.08</td>\n",
       "      <td>-159.32</td>\n",
       "      <td>78.80</td>\n",
       "      <td>9.17</td>\n",
       "    </tr>\n",
       "    <tr>\n",
       "      <th>4</th>\n",
       "      <td>lebu</td>\n",
       "      <td>0</td>\n",
       "      <td>CL</td>\n",
       "      <td>1609809932</td>\n",
       "      <td>76</td>\n",
       "      <td>-37.62</td>\n",
       "      <td>-73.65</td>\n",
       "      <td>56.26</td>\n",
       "      <td>22.24</td>\n",
       "    </tr>\n",
       "  </tbody>\n",
       "</table>\n",
       "</div>"
      ],
      "text/plain": [
       "         City  Cloudiness Country        Date  Humidity    Lat     Lng  \\\n",
       "0   tuatapere         100      NZ  1609810053        92 -46.13  167.68   \n",
       "1  chokurdakh          14      RU  1609810053        85  70.63  147.92   \n",
       "2  zhezkazgan          98      KZ  1609810053        87  47.80   67.71   \n",
       "3       kapaa           1      US  1609810053        69  22.08 -159.32   \n",
       "4        lebu           0      CL  1609809932        76 -37.62  -73.65   \n",
       "\n",
       "   Max Temp  Wind Speed  \n",
       "0     59.00        1.01  \n",
       "1    -28.17       10.63  \n",
       "2     -2.43        8.28  \n",
       "3     78.80        9.17  \n",
       "4     56.26       22.24  "
      ]
     },
     "execution_count": 12,
     "metadata": {},
     "output_type": "execute_result"
    }
   ],
   "source": [
    "# create a dictionary for establishing dataframe\n",
    "weather_dict = {\n",
    "    \"City\":city_two,\n",
    "    \"Cloudiness\":cloudinesses,\n",
    "    \"Country\":countries,\n",
    "    \"Date\":dates,\n",
    "    \"Humidity\":humidities,\n",
    "    \"Lat\":lats,\n",
    "    \"Lng\":lngs,\n",
    "    \"Max Temp\":max_temps,\n",
    "    \"Wind Speed\":wind_speeds\n",
    "}\n",
    "weather_df = pd.DataFrame(weather_dict)\n",
    "weather_df.head()"
   ]
  },
  {
   "cell_type": "code",
   "execution_count": 23,
   "metadata": {},
   "outputs": [
    {
     "name": "stdout",
     "output_type": "stream",
     "text": [
      "[]\n"
     ]
    }
   ],
   "source": [
    "#checkout if any cities have a humidity of over 100\n",
    "humid = []\n",
    "for i in weather_df[\"Humidity\"]:\n",
    "    if i > 100:\n",
    "        humid.append(weather_df[\"City\"][i])\n",
    "print(humid)"
   ]
  },
  {
   "cell_type": "code",
   "execution_count": 24,
   "metadata": {},
   "outputs": [
    {
     "data": {
      "text/plain": [
       "City          531\n",
       "Cloudiness    531\n",
       "Country       531\n",
       "Date          531\n",
       "Humidity      531\n",
       "Lat           531\n",
       "Lng           531\n",
       "Max Temp      531\n",
       "Wind Speed    531\n",
       "dtype: int64"
      ]
     },
     "execution_count": 24,
     "metadata": {},
     "output_type": "execute_result"
    }
   ],
   "source": [
    "#so how many cities did we go through?\n",
    "weather_df.count()"
   ]
  },
  {
   "cell_type": "code",
   "execution_count": 41,
   "metadata": {},
   "outputs": [
    {
     "name": "stdout",
     "output_type": "stream",
     "text": [
      "76.69\n"
     ]
    }
   ],
   "source": [
    "hum_mean = round(weather_df[\"Humidity\"].astype('float').mean(), 2)\n",
    "\n"
   ]
  },
  {
   "cell_type": "code",
   "execution_count": 69,
   "metadata": {},
   "outputs": [],
   "source": [
    "#if there's one thing i really like doing with variable names, it's simplifying them. A lot\n",
    "w_count = weather_df.count()\n",
    "w_mean = weather_df.mean()\n",
    "w_std = weather_df.std()\n",
    "w_min = weather_df.min()\n",
    "quartiles = weather_df.quantile([.25,.5,.75])\n",
    "lowerq = quartiles.loc[0.25]\n",
    "upperq = quartiles.loc[.75]\n",
    "iqr = upperq-lowerq\n",
    "w_max = weather_df.max()\n"
   ]
  },
  {
   "cell_type": "code",
   "execution_count": 16,
   "metadata": {},
   "outputs": [
    {
     "data": {
      "text/html": [
       "<div>\n",
       "<style scoped>\n",
       "    .dataframe tbody tr th:only-of-type {\n",
       "        vertical-align: middle;\n",
       "    }\n",
       "\n",
       "    .dataframe tbody tr th {\n",
       "        vertical-align: top;\n",
       "    }\n",
       "\n",
       "    .dataframe thead th {\n",
       "        text-align: right;\n",
       "    }\n",
       "</style>\n",
       "<table border=\"1\" class=\"dataframe\">\n",
       "  <thead>\n",
       "    <tr style=\"text-align: right;\">\n",
       "      <th></th>\n",
       "      <th>Lat</th>\n",
       "      <th>Lng</th>\n",
       "      <th>Max Temp</th>\n",
       "      <th>Humidity</th>\n",
       "      <th>Cloudiness</th>\n",
       "      <th>Wind Speed</th>\n",
       "      <th>Date</th>\n",
       "    </tr>\n",
       "  </thead>\n",
       "  <tbody>\n",
       "    <tr>\n",
       "      <td>count</td>\n",
       "      <td>599.000000</td>\n",
       "      <td>599.000000</td>\n",
       "      <td>599.000000</td>\n",
       "      <td>599.000000</td>\n",
       "      <td>599.000000</td>\n",
       "      <td>599.000000</td>\n",
       "      <td>5.990000e+02</td>\n",
       "    </tr>\n",
       "    <tr>\n",
       "      <td>mean</td>\n",
       "      <td>19.877028</td>\n",
       "      <td>19.568998</td>\n",
       "      <td>69.794808</td>\n",
       "      <td>69.353923</td>\n",
       "      <td>51.569282</td>\n",
       "      <td>7.979416</td>\n",
       "      <td>1.593605e+09</td>\n",
       "    </tr>\n",
       "    <tr>\n",
       "      <td>std</td>\n",
       "      <td>33.262944</td>\n",
       "      <td>91.418472</td>\n",
       "      <td>15.678452</td>\n",
       "      <td>22.704698</td>\n",
       "      <td>35.405602</td>\n",
       "      <td>5.660694</td>\n",
       "      <td>5.738815e+01</td>\n",
       "    </tr>\n",
       "    <tr>\n",
       "      <td>min</td>\n",
       "      <td>-54.800000</td>\n",
       "      <td>-179.170000</td>\n",
       "      <td>12.200000</td>\n",
       "      <td>7.000000</td>\n",
       "      <td>0.000000</td>\n",
       "      <td>0.360000</td>\n",
       "      <td>1.593605e+09</td>\n",
       "    </tr>\n",
       "    <tr>\n",
       "      <td>25%</td>\n",
       "      <td>-8.540000</td>\n",
       "      <td>-61.210000</td>\n",
       "      <td>59.000000</td>\n",
       "      <td>55.000000</td>\n",
       "      <td>20.000000</td>\n",
       "      <td>3.620000</td>\n",
       "      <td>1.593605e+09</td>\n",
       "    </tr>\n",
       "    <tr>\n",
       "      <td>50%</td>\n",
       "      <td>24.370000</td>\n",
       "      <td>24.670000</td>\n",
       "      <td>73.110000</td>\n",
       "      <td>75.000000</td>\n",
       "      <td>59.000000</td>\n",
       "      <td>6.730000</td>\n",
       "      <td>1.593605e+09</td>\n",
       "    </tr>\n",
       "    <tr>\n",
       "      <td>75%</td>\n",
       "      <td>46.585000</td>\n",
       "      <td>102.255000</td>\n",
       "      <td>80.600000</td>\n",
       "      <td>87.000000</td>\n",
       "      <td>85.000000</td>\n",
       "      <td>11.050000</td>\n",
       "      <td>1.593605e+09</td>\n",
       "    </tr>\n",
       "    <tr>\n",
       "      <td>max</td>\n",
       "      <td>78.220000</td>\n",
       "      <td>179.320000</td>\n",
       "      <td>116.600000</td>\n",
       "      <td>100.000000</td>\n",
       "      <td>100.000000</td>\n",
       "      <td>42.500000</td>\n",
       "      <td>1.593605e+09</td>\n",
       "    </tr>\n",
       "  </tbody>\n",
       "</table>\n",
       "</div>"
      ],
      "text/plain": [
       "              Lat         Lng    Max Temp    Humidity  Cloudiness  Wind Speed  \\\n",
       "count  599.000000  599.000000  599.000000  599.000000  599.000000  599.000000   \n",
       "mean    19.877028   19.568998   69.794808   69.353923   51.569282    7.979416   \n",
       "std     33.262944   91.418472   15.678452   22.704698   35.405602    5.660694   \n",
       "min    -54.800000 -179.170000   12.200000    7.000000    0.000000    0.360000   \n",
       "25%     -8.540000  -61.210000   59.000000   55.000000   20.000000    3.620000   \n",
       "50%     24.370000   24.670000   73.110000   75.000000   59.000000    6.730000   \n",
       "75%     46.585000  102.255000   80.600000   87.000000   85.000000   11.050000   \n",
       "max     78.220000  179.320000  116.600000  100.000000  100.000000   42.500000   \n",
       "\n",
       "               Date  \n",
       "count  5.990000e+02  \n",
       "mean   1.593605e+09  \n",
       "std    5.738815e+01  \n",
       "min    1.593605e+09  \n",
       "25%    1.593605e+09  \n",
       "50%    1.593605e+09  \n",
       "75%    1.593605e+09  \n",
       "max    1.593605e+09  "
      ]
     },
     "execution_count": 16,
     "metadata": {},
     "output_type": "execute_result"
    }
   ],
   "source": []
  },
  {
   "cell_type": "markdown",
   "metadata": {},
   "source": [
    "## Plotting the Data\n",
    "* Use proper labeling of the plots using plot titles (including date of analysis) and axes labels.\n",
    "* Save the plotted figures as .pngs."
   ]
  },
  {
   "cell_type": "markdown",
   "metadata": {},
   "source": [
    "## Latitude vs. Temperature Plot"
   ]
  },
  {
   "cell_type": "code",
   "execution_count": 37,
   "metadata": {
    "scrolled": true
   },
   "outputs": [
    {
     "data": {
      "image/png": "[encoded data removed]",
      "text/plain": [
       "<Figure size 432x288 with 1 Axes>"
      ]
     },
     "metadata": {
      "needs_background": "light"
     },
     "output_type": "display_data"
    }
   ],
   "source": [
    "plt.scatter(weather_dataframe[\"Lat\"],weather_dataframe[\"Max Temp\"],edgecolors=\"black\",facecolors=\"skyblue\")\n",
    "plt.title(\"City Latitude vs. Max Temperature\")\n",
    "plt.xlabel(\"Latitude\")\n",
    "plt.ylabel(\"Max Temperature (F)\")\n",
    "plt.grid (b=True,which=\"major\",axis=\"both\",linestyle=\"-\",color=\"lightgrey\")\n",
    "plt.savefig(\"Figures/LatvTemp.png\")\n",
    "plt.show()"
   ]
  },
  {
   "cell_type": "markdown",
   "metadata": {},
   "source": [
    "## Latitude vs. Humidity Plot"
   ]
  },
  {
   "cell_type": "code",
   "execution_count": 38,
   "metadata": {},
   "outputs": [
    {
     "data": {
      "image/png": "[encoded data removed]",
      "text/plain": [
       "<Figure size 432x288 with 1 Axes>"
      ]
     },
     "metadata": {
      "needs_background": "light"
     },
     "output_type": "display_data"
    }
   ],
   "source": [
    "plt.scatter(weather_df[\"Lat\"], weather_df[\"Humidity\"], marker=\"o\", s=10)\n",
    "\n",
    "plt.title(\"City Latitude vs. Humidity\")\n",
    "plt.ylabel(\"Humidity (%)\")\n",
    "plt.xlabel(\"Latitude\")\n",
    "plt.grid(True)\n",
    "plt.savefig(\"Figures/HumvLat.png\")\n",
    "plt.show()"
   ]
  },
  {
   "cell_type": "markdown",
   "metadata": {},
   "source": [
    "## Latitude vs. Cloudiness Plot"
   ]
  },
  {
   "cell_type": "code",
   "execution_count": 40,
   "metadata": {},
   "outputs": [
    {
     "data": {
      "image/png": "[encoded data removed]",
      "text/plain": [
       "<Figure size 432x288 with 1 Axes>"
      ]
     },
     "metadata": {
      "needs_background": "light"
     },
     "output_type": "display_data"
    }
   ],
   "source": [
    "plt.scatter(weather_df[\"Lat\"], weather_df[\"Cloudiness\"], marker=\"o\", s=10)\n",
    "plt.title(\"City Latitude vs. Cloudiness\")\n",
    "plt.ylabel(\"Cloudiness (%)\")\n",
    "plt.xlabel(\"Latitude\")\n",
    "plt.grid(True)\n",
    "plt.savefig(\"Figures/LatvCloud.png\")\n",
    "plt.show()"
   ]
  },
  {
   "cell_type": "markdown",
   "metadata": {},
   "source": [
    "## Latitude vs. Wind Speed Plot"
   ]
  },
  {
   "cell_type": "code",
   "execution_count": 73,
   "metadata": {},
   "outputs": [
    {
     "data": {
      "image/png": "[encoded data removed]",
      "text/plain": [
       "<Figure size 432x288 with 1 Axes>"
      ]
     },
     "metadata": {
      "needs_background": "light"
     },
     "output_type": "display_data"
    }
   ],
   "source": [
    "plt.scatter(weather_df[\"Lat\"], weather_df[\"Wind Speed\"], marker=\"o\")\n",
    "\n",
    "# Incorporate the other graph properties\n",
    "plt.title('City Latitude vs. Wind Speed')\n",
    "plt.ylabel(\"Wind Speed\")\n",
    "plt.xlabel(\"Lat\")\n",
    "plt.grid(True)\n",
    "plt.savefig(\"Figures/LatvWind.png\")\n",
    "plt.show()"
   ]
  },
  {
   "cell_type": "markdown",
   "metadata": {},
   "source": [
    "## Linear Regression"
   ]
  },
  {
   "cell_type": "code",
   "execution_count": 76,
   "metadata": {},
   "outputs": [
    {
     "ename": "NameError",
     "evalue": "name 'DataFrame' is not defined",
     "output_type": "error",
     "traceback": [
      "\u001b[1;31m---------------------------------------------------------------------------\u001b[0m",
      "\u001b[1;31mNameError\u001b[0m                                 Traceback (most recent call last)",
      "\u001b[1;32m<ipython-input-76-0b9e2f45f525>\u001b[0m in \u001b[0;36m<module>\u001b[1;34m\u001b[0m\n\u001b[0;32m      4\u001b[0m     \u001b[1;32mif\u001b[0m \u001b[0mi\u001b[0m \u001b[1;33m>\u001b[0m \u001b[1;36m0\u001b[0m\u001b[1;33m:\u001b[0m\u001b[1;33m\u001b[0m\u001b[1;33m\u001b[0m\u001b[0m\n\u001b[0;32m      5\u001b[0m         \u001b[0mnorth\u001b[0m\u001b[1;33m.\u001b[0m\u001b[0mappend\u001b[0m\u001b[1;33m(\u001b[0m\u001b[0mi\u001b[0m\u001b[1;33m)\u001b[0m\u001b[1;33m\u001b[0m\u001b[1;33m\u001b[0m\u001b[0m\n\u001b[1;32m----> 6\u001b[1;33m \u001b[0mx_values\u001b[0m \u001b[1;33m=\u001b[0m \u001b[0mDataFrame\u001b[0m\u001b[1;33m(\u001b[0m\u001b[0mnorth\u001b[0m\u001b[1;33m)\u001b[0m\u001b[1;33m\u001b[0m\u001b[1;33m\u001b[0m\u001b[0m\n\u001b[0m",
      "\u001b[1;31mNameError\u001b[0m: name 'DataFrame' is not defined"
     ]
    }
   ],
   "source": []
  },
  {
   "cell_type": "markdown",
   "metadata": {},
   "source": [
    "####  Northern Hemisphere - Max Temp vs. Latitude Linear Regression"
   ]
  },
  {
   "cell_type": "code",
   "execution_count": 25,
   "metadata": {},
   "outputs": [
    {
     "name": "stdout",
     "output_type": "stream",
     "text": [
      "The r-value is: 0.46937863826630627\n"
     ]
    },
    {
     "data": {
      "image/png": "[encoded data removed]",
      "text/plain": [
       "<Figure size 432x288 with 1 Axes>"
      ]
     },
     "metadata": {
      "needs_background": "light"
     },
     "output_type": "display_data"
    }
   ],
   "source": []
  },
  {
   "cell_type": "markdown",
   "metadata": {},
   "source": [
    "####  Southern Hemisphere - Max Temp vs. Latitude Linear Regression"
   ]
  },
  {
   "cell_type": "code",
   "execution_count": 26,
   "metadata": {},
   "outputs": [
    {
     "name": "stdout",
     "output_type": "stream",
     "text": [
      "The r-value is: 0.6082708688906918\n"
     ]
    },
    {
     "data": {
      "image/png": "[encoded data removed]",
      "text/plain": [
       "<Figure size 432x288 with 1 Axes>"
      ]
     },
     "metadata": {
      "needs_background": "light"
     },
     "output_type": "display_data"
    }
   ],
   "source": []
  },
  {
   "cell_type": "markdown",
   "metadata": {},
   "source": [
    "####  Northern Hemisphere - Humidity (%) vs. Latitude Linear Regression"
   ]
  },
  {
   "cell_type": "code",
   "execution_count": 27,
   "metadata": {},
   "outputs": [
    {
     "name": "stdout",
     "output_type": "stream",
     "text": [
      "The r-value is: 0.000543987878808455\n"
     ]
    },
    {
     "data": {
      "image/png": "[encoded data removed]",
      "text/plain": [
       "<Figure size 432x288 with 1 Axes>"
      ]
     },
     "metadata": {
      "needs_background": "light"
     },
     "output_type": "display_data"
    }
   ],
   "source": []
  },
  {
   "cell_type": "markdown",
   "metadata": {},
   "source": [
    "####  Southern Hemisphere - Humidity (%) vs. Latitude Linear Regression"
   ]
  },
  {
   "cell_type": "code",
   "execution_count": 28,
   "metadata": {},
   "outputs": [
    {
     "name": "stdout",
     "output_type": "stream",
     "text": [
      "The r-value is: 0.014985174297345524\n"
     ]
    },
    {
     "data": {
      "image/png": "[encoded data removed]",
      "text/plain": [
       "<Figure size 432x288 with 1 Axes>"
      ]
     },
     "metadata": {
      "needs_background": "light"
     },
     "output_type": "display_data"
    }
   ],
   "source": []
  },
  {
   "cell_type": "markdown",
   "metadata": {},
   "source": [
    "####  Northern Hemisphere - Cloudiness (%) vs. Latitude Linear Regression"
   ]
  },
  {
   "cell_type": "code",
   "execution_count": 29,
   "metadata": {},
   "outputs": [
    {
     "name": "stdout",
     "output_type": "stream",
     "text": [
      "The r-value is: 0.0020898727664228514\n"
     ]
    },
    {
     "data": {
      "image/png": "[encoded data removed]",
      "text/plain": [
       "<Figure size 432x288 with 1 Axes>"
      ]
     },
     "metadata": {
      "needs_background": "light"
     },
     "output_type": "display_data"
    }
   ],
   "source": []
  },
  {
   "cell_type": "markdown",
   "metadata": {},
   "source": [
    "####  Southern Hemisphere - Cloudiness (%) vs. Latitude Linear Regression"
   ]
  },
  {
   "cell_type": "code",
   "execution_count": 30,
   "metadata": {},
   "outputs": [
    {
     "name": "stdout",
     "output_type": "stream",
     "text": [
      "The r-value is: 0.0035263772085582894\n"
     ]
    },
    {
     "data": {
      "image/png": "[encoded data removed]",
      "text/plain": [
       "<Figure size 432x288 with 1 Axes>"
      ]
     },
     "metadata": {
      "needs_background": "light"
     },
     "output_type": "display_data"
    }
   ],
   "source": []
  },
  {
   "cell_type": "markdown",
   "metadata": {},
   "source": [
    "####  Northern Hemisphere - Wind Speed (mph) vs. Latitude Linear Regression"
   ]
  },
  {
   "cell_type": "code",
   "execution_count": 31,
   "metadata": {},
   "outputs": [
    {
     "name": "stdout",
     "output_type": "stream",
     "text": [
      "The r-value is: 0.04019723576144484\n"
     ]
    },
    {
     "data": {
      "image/png": "[encoded data removed]",
      "text/plain": [
       "<Figure size 432x288 with 1 Axes>"
      ]
     },
     "metadata": {
      "needs_background": "light"
     },
     "output_type": "display_data"
    }
   ],
   "source": []
  },
  {
   "cell_type": "markdown",
   "metadata": {},
   "source": [
    "####  Southern Hemisphere - Wind Speed (mph) vs. Latitude Linear Regression"
   ]
  },
  {
   "cell_type": "code",
   "execution_count": 32,
   "metadata": {},
   "outputs": [
    {
     "name": "stdout",
     "output_type": "stream",
     "text": [
      "The r-value is: 0.017128274759839232\n"
     ]
    },
    {
     "data": {
      "image/png": "[encoded data removed]",
      "text/plain": [
       "<Figure size 432x288 with 1 Axes>"
      ]
     },
     "metadata": {
      "needs_background": "light"
     },
     "output_type": "display_data"
    }
   ],
   "source": []
  },
  {
   "cell_type": "code",
   "execution_count": null,
   "metadata": {},
   "outputs": [],
   "source": []
  }
 ],
 "metadata": {
  "anaconda-cloud": {},
  "kernel_info": {
   "name": "python3"
  },
  "kernelspec": {
   "display_name": "Python 3",
   "language": "python",
   "name": "python3"
  },
  "language_info": {
   "codemirror_mode": {
    "name": "ipython",
    "version": 3
   },
   "file_extension": ".py",
   "mimetype": "text/x-python",
   "name": "python",
   "nbconvert_exporter": "python",
   "pygments_lexer": "ipython3",
   "version": "3.8.3"
  },
  "latex_envs": {
   "LaTeX_envs_menu_present": true,
   "autoclose": false,
   "autocomplete": true,
   "bibliofile": "biblio.bib",
   "cite_by": "apalike",
   "current_citInitial": 1,
   "eqLabelWithNumbers": true,
   "eqNumInitial": 1,
   "hotkeys": {
    "equation": "Ctrl-E",
    "itemize": "Ctrl-I"
   },
   "labels_anchors": false,
   "latex_user_defs": false,
   "report_style_numbering": false,
   "user_envs_cfg": false
  },
  "nteract": {
   "version": "0.12.3"
  }
 },
 "nbformat": 4,
 "nbformat_minor": 2
}
